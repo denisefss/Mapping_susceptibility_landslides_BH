{
  "nbformat": 4,
  "nbformat_minor": 0,
  "metadata": {
    "colab": {
      "provenance": [],
      "authorship_tag": "ABX9TyNUu4jNlCC+9xcfrI6y4oYf",
      "include_colab_link": true
    },
    "kernelspec": {
      "name": "python3",
      "display_name": "Python 3"
    },
    "language_info": {
      "name": "python"
    }
  },
  "cells": [
    {
      "cell_type": "markdown",
      "metadata": {
        "id": "view-in-github",
        "colab_type": "text"
      },
      "source": [
        "<a href=\"https://colab.research.google.com/github/denisefss/Mapping_susceptibility_landslides_BH/blob/main/Extracao_pixel_raster.ipynb\" target=\"_parent\"><img src=\"https://colab.research.google.com/assets/colab-badge.svg\" alt=\"Open In Colab\"/></a>"
      ]
    },
    {
      "cell_type": "markdown",
      "source": [
        "Este notebook explica como extrair os dados das variáveis raster preditoras para a camada de pontos com pontos de presença/ausência de deslizamentos"
      ],
      "metadata": {
        "id": "fQ7GYXQuS2D5"
      }
    },
    {
      "cell_type": "code",
      "source": [
        "# Montar o google drive\n",
        "from google.colab import drive\n",
        "drive.mount('/content/drive')"
      ],
      "metadata": {
        "id": "XtIezh2BS3LU"
      },
      "execution_count": null,
      "outputs": []
    },
    {
      "cell_type": "code",
      "source": [
        "# Instalar bibliotecas necessárias\n",
        "!pip install rasterio\n",
        "!pip install pyspatialml\n",
        "!pip install numpy"
      ],
      "metadata": {
        "id": "1IX6pUBsTYLy"
      },
      "execution_count": null,
      "outputs": []
    },
    {
      "cell_type": "code",
      "source": [
        "# Importar as bibliotecas necessárias\n",
        "from pyspatialml import Raster\n",
        "import os\n",
        "import matplotlib.pyplot as plt\n",
        "import geopandas as gpd\n",
        "import pandas as pd\n",
        "import seaborn as sn\n",
        "import rasterio.plot\n",
        "import numpy as np"
      ],
      "metadata": {
        "id": "fktfbVx8TmAS"
      },
      "execution_count": null,
      "outputs": []
    },
    {
      "cell_type": "code",
      "source": [
        "# Alterar o diretório de trabalho\n",
        "os.chdir(r'/caminho_do_seus_arquivos_no_drive')"
      ],
      "metadata": {
        "id": "f7jmTkD1UII6"
      },
      "execution_count": null,
      "outputs": []
    },
    {
      "cell_type": "code",
      "source": [
        "# Carregar a camada de pontos com presença/ausência de deslizamentos\n",
        "# Substitua pelo nome real do seu arquivo shapefile\n",
        "points_path = 'dados.shp'\n",
        "points_gdf = gpd.read_file(points_path)"
      ],
      "metadata": {
        "id": "iMo97cncTsmm"
      },
      "execution_count": null,
      "outputs": []
    },
    {
      "cell_type": "code",
      "source": [
        "# Substitua pelos nomes dos seus rasters de saída\n",
        "predictors = ['SPI_bh.tif', 'TPI_bh.tif', 'TRI_bh.tif', 'TWI_bh.tif', 'declividade_bh.tif','densi_hidro.tif', 'densi_lineamento_bh.tif','distancia_hidro_bh.tif',\n",
        "              'distancia_lineamento_bh.tif', 'distancia_vias_bh.tif', 'elevacao_bh.tif', 'flow_acc_bh.tif',\n",
        "              'lito_bh.tif','modelo_cine.tif', 'ndvi_resized.tif', 'orientacao_bh.tif', 'pedo_bh.tif',\n",
        "              'planform_curvature_bh.tif','pot_uso_bh.tif','profile_curvature_bh.tif', 'rugosidade_bh.tif', 'unid_geo_bh.tif', 'densi_vias.tif']"
      ],
      "metadata": {
        "id": "c96VrE5kUXw4"
      },
      "execution_count": null,
      "outputs": []
    },
    {
      "cell_type": "code",
      "source": [
        "# Criar uma pilha com os rasters preditores\n",
        "stack = Raster(predictors)"
      ],
      "metadata": {
        "id": "Qo6hx9y9UdES"
      },
      "execution_count": null,
      "outputs": []
    },
    {
      "cell_type": "code",
      "source": [
        "# Acessando os nomes dos rasters\n",
        "names = stack.names\n",
        "# Imprimindo os nomes dos rasters\n",
        "print(\"Nomes dos rasters no stack:\", names)"
      ],
      "metadata": {
        "id": "rbVzepLIUffI"
      },
      "execution_count": null,
      "outputs": []
    },
    {
      "cell_type": "code",
      "source": [
        "points_gdf= points_gdf[['id', 'Target', 'geometry']]"
      ],
      "metadata": {
        "id": "9js-DqP-UvpF"
      },
      "execution_count": null,
      "outputs": []
    },
    {
      "cell_type": "code",
      "source": [
        "# Substitua 'seu_arquivo.shp' pelo caminho do seu arquivo shapefile\n",
        "# Lê o shapefile\n",
        "gdf = points_gdf\n",
        "\n",
        "# Lista para armazenar os valores de pixel\n",
        "pixel_values = []\n",
        "\n",
        "# Loop sobre cada raster na pilha\n",
        "for raster_file in predictors:\n",
        "    with rasterio.open(raster_file) as src:\n",
        "        # Reprojeta o shapefile para o sistema de coordenadas do raster\n",
        "        gdf_reproj = gdf.to_crs(src.crs)\n",
        "\n",
        "        # Obtém as coordenadas dos pontos\n",
        "        coords = [(point.x, point.y) for point in gdf_reproj.geometry]\n",
        "\n",
        "        # Converte as coordenadas para índices de linha e coluna no raster\n",
        "        rows, cols = zip(*[src.index(x, y) for x, y in coords])\n",
        "\n",
        "        # Lê os valores de pixel nos pontos\n",
        "        values = src.read(1)  # Lê a banda 1 (ou ajuste conforme necessário)\n",
        "        pixel_values.append(values[rows, cols])\n",
        "\n",
        "# Converte a lista de valores de pixel em um array numpy\n",
        "pixel_values_array = np.array(pixel_values).T\n",
        "\n",
        "# Adiciona os valores de pixel ao GeoDataFrame original sem o sufixo \"_value\"\n",
        "for i, raster_name in enumerate(predictors):\n",
        "    gdf[raster_name.replace('.tif', '')] = pixel_values_array[:, i]\n",
        "\n",
        "# Exibe o GeoDataFrame resultante com os valores de pixel adicionados\n",
        "print(gdf)"
      ],
      "metadata": {
        "id": "u1beA0kBU94p"
      },
      "execution_count": null,
      "outputs": []
    },
    {
      "cell_type": "code",
      "source": [
        "gdf.to_csv('dados_pixel.csv', index = False)"
      ],
      "metadata": {
        "id": "ONdYYdi_VKYT"
      },
      "execution_count": null,
      "outputs": []
    }
  ]
}